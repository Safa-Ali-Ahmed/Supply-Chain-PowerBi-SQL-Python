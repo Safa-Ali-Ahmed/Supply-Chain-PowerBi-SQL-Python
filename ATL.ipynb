{
 "cells": [
  {
   "cell_type": "code",
   "execution_count": 1,
   "id": "610bf050-1c1f-4c83-89b8-9e33b2c13a08",
   "metadata": {},
   "outputs": [
    {
     "name": "stdout",
     "output_type": "stream",
     "text": [
      "Requirement already satisfied: pandas in c:\\users\\cyber-tech\\anaconda3\\lib\\site-packages (2.2.2)\n",
      "Requirement already satisfied: openpyxl in c:\\users\\cyber-tech\\anaconda3\\lib\\site-packages (3.1.5)\n",
      "Requirement already satisfied: sqlalchemy in c:\\users\\cyber-tech\\anaconda3\\lib\\site-packages (2.0.34)\n",
      "Requirement already satisfied: python-dotenv in c:\\users\\cyber-tech\\anaconda3\\lib\\site-packages (0.21.0)\n",
      "Requirement already satisfied: numpy>=1.26.0 in c:\\users\\cyber-tech\\anaconda3\\lib\\site-packages (from pandas) (1.26.4)\n",
      "Requirement already satisfied: python-dateutil>=2.8.2 in c:\\users\\cyber-tech\\anaconda3\\lib\\site-packages (from pandas) (2.9.0.post0)\n",
      "Requirement already satisfied: pytz>=2020.1 in c:\\users\\cyber-tech\\anaconda3\\lib\\site-packages (from pandas) (2024.1)\n",
      "Requirement already satisfied: tzdata>=2022.7 in c:\\users\\cyber-tech\\anaconda3\\lib\\site-packages (from pandas) (2023.3)\n",
      "Requirement already satisfied: et-xmlfile in c:\\users\\cyber-tech\\anaconda3\\lib\\site-packages (from openpyxl) (1.1.0)\n",
      "Requirement already satisfied: typing-extensions>=4.6.0 in c:\\users\\cyber-tech\\anaconda3\\lib\\site-packages (from sqlalchemy) (4.11.0)\n",
      "Requirement already satisfied: greenlet!=0.4.17 in c:\\users\\cyber-tech\\anaconda3\\lib\\site-packages (from sqlalchemy) (3.0.1)\n",
      "Requirement already satisfied: six>=1.5 in c:\\users\\cyber-tech\\anaconda3\\lib\\site-packages (from python-dateutil>=2.8.2->pandas) (1.16.0)\n",
      "Note: you may need to restart the kernel to use updated packages.\n"
     ]
    }
   ],
   "source": [
    "pip install pandas openpyxl sqlalchemy python-dotenv"
   ]
  },
  {
   "cell_type": "code",
   "execution_count": 8,
   "id": "95b6a8b0-8b74-42d8-8664-e82e2ee0f5af",
   "metadata": {},
   "outputs": [
    {
     "name": "stdout",
     "output_type": "stream",
     "text": [
      "Processing Dim_Customers.csv\n",
      "Saved cleaned file: Cleaned_Data\\Dim_Customers_clean.xlsx\n",
      "Processing Dim_Order_Date.csv\n",
      "Saved cleaned file: Cleaned_Data\\Dim_Order_Date_clean.xlsx\n",
      "Processing Dim_Product.csv\n",
      "Saved cleaned file: Cleaned_Data\\Dim_Product_clean.xlsx\n",
      "Processing Dim_Shipment_Date.csv\n",
      "Saved cleaned file: Cleaned_Data\\Dim_Shipment_Date_clean.xlsx\n",
      "Processing Dim_Shipment_Mode.csv\n",
      "Saved cleaned file: Cleaned_Data\\Dim_Shipment_Mode_clean.xlsx\n",
      "Processing Dim_Warehouse.csv\n",
      "Saved cleaned file: Cleaned_Data\\Dim_Warehouse_clean.xlsx\n",
      "Processing Fact_Orders.csv\n",
      "Saved cleaned file: Cleaned_Data\\Fact_Orders_clean.xlsx\n",
      "Processing Fact_Shipment.csv\n",
      "Saved cleaned file: Cleaned_Data\\Fact_Shipment_clean.xlsx\n",
      "Processing Fulfillment.csv\n",
      "Saved cleaned file: Cleaned_Data\\Fulfillment_clean.xlsx\n",
      "Processing Inventory.csv\n",
      "Saved cleaned file: Cleaned_Data\\Inventory_clean.xlsx\n"
     ]
    }
   ],
   "source": [
    "import pandas as pd\n",
    "from pathlib import Path\n",
    "\n",
    "# دالة التنضيف\n",
    "def clean_dataframe(df: pd.DataFrame) -> pd.DataFrame:\n",
    "    df.columns = df.columns.str.strip().str.replace(' ', '_').str.lower()\n",
    "    df = df.drop_duplicates()\n",
    "\n",
    "    for col in df.columns:\n",
    "        if 'date' in col:\n",
    "            df[col] = pd.to_datetime(df[col], errors='coerce')\n",
    "\n",
    "    num_cols = df.select_dtypes(include='number').columns\n",
    "    df[num_cols] = df[num_cols].fillna(0)\n",
    "\n",
    "    text_cols = df.select_dtypes(include='object').columns\n",
    "    df[text_cols] = df[text_cols].apply(lambda s: s.str.title())\n",
    "\n",
    "    return df\n",
    "\n",
    "# المسارات\n",
    "RAW_DIR = Path(\"Normalized_Data\")\n",
    "CLEAN_DIR = Path(\"Cleaned_Data\")\n",
    "CLEAN_DIR.mkdir(exist_ok=True)\n",
    "\n",
    "# لفة على كل الملفات\n",
    "for file in RAW_DIR.iterdir():\n",
    "    if file.suffix in [\".csv\", \".xlsx\"]:\n",
    "        print(f\"Processing {file.name}\")\n",
    "        \n",
    "        if file.suffix == \".csv\":\n",
    "            df = pd.read_csv(file)\n",
    "        else:\n",
    "            df = pd.read_excel(file)\n",
    "        \n",
    "        df_clean = clean_dataframe(df)\n",
    "\n",
    "        output_path = CLEAN_DIR / f\"{file.stem}_clean.xlsx\"\n",
    "        df_clean.to_excel(output_path, index=False, engine='openpyxl')\n",
    "        print(f\"Saved cleaned file: {output_path}\")"
   ]
  },
  {
   "cell_type": "code",
   "execution_count": null,
   "id": "5ae35362-98c2-45af-beba-f1cc63ddcc9f",
   "metadata": {},
   "outputs": [],
   "source": []
  }
 ],
 "metadata": {
  "kernelspec": {
   "display_name": "Python 3 (ipykernel)",
   "language": "python",
   "name": "python3"
  },
  "language_info": {
   "codemirror_mode": {
    "name": "ipython",
    "version": 3
   },
   "file_extension": ".py",
   "mimetype": "text/x-python",
   "name": "python",
   "nbconvert_exporter": "python",
   "pygments_lexer": "ipython3",
   "version": "3.12.7"
  }
 },
 "nbformat": 4,
 "nbformat_minor": 5
}
